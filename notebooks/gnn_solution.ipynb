{
 "cells": [
  {
   "cell_type": "code",
   "execution_count": 217,
   "id": "dd310198",
   "metadata": {},
   "outputs": [],
   "source": [
    "import dgl\n",
    "import torch\n",
    "import torch.nn as nn\n",
    "from torch.optim import Adam\n",
    "import torch.nn.functional as F\n",
    "from tqdm.auto import trange\n",
    "\n",
    "from cloudmanufacturing.data import read_fatahi_dataset\n",
    "from cloudmanufacturing.mip_solver import mip_solve\n",
    "from cloudmanufacturing.validation import objvalue, construct_delta\n",
    "from cloudmanufacturing.graph import dglgraph\n",
    "from cloudmanufacturing.graphconv import AttnConvLayer, DotProductDecoder"
   ]
  },
  {
   "cell_type": "code",
   "execution_count": 2,
   "id": "45d6068d",
   "metadata": {},
   "outputs": [
    {
     "data": {
      "application/vnd.jupyter.widget-view+json": {
       "model_id": "497d2ff64a6d4a19a9e861e053ed3f0e",
       "version_major": 2,
       "version_minor": 0
      },
      "text/plain": [
       "  0%|          | 0/18 [00:00<?, ?it/s]"
      ]
     },
     "metadata": {},
     "output_type": "display_data"
    },
    {
     "data": {
      "text/plain": [
       "'5,10,10-1'"
      ]
     },
     "execution_count": 2,
     "metadata": {},
     "output_type": "execute_result"
    }
   ],
   "source": [
    "dataset = read_fatahi_dataset('../data/fatahi.xlsx')\n",
    "problem = dataset[0]\n",
    "problem['name']"
   ]
  },
  {
   "cell_type": "code",
   "execution_count": 3,
   "id": "ccfca1e5",
   "metadata": {},
   "outputs": [
    {
     "name": "stdout",
     "output_type": "stream",
     "text": [
      "Problem 5,10,10-1: 5086.08, OptimizationStatus.OPTIMAL\n"
     ]
    }
   ],
   "source": [
    "delta, gamma, status, value = mip_solve(problem)\n",
    "print(f'Problem {problem[\"name\"]}: {value:.2f}, {status}')"
   ]
  },
  {
   "cell_type": "code",
   "execution_count": 72,
   "id": "4fb79745",
   "metadata": {},
   "outputs": [
    {
     "data": {
      "text/plain": [
       "Graph(num_nodes={'o': 30, 's': 10},\n",
       "      num_edges={('o', 'backward', 'o'): 33, ('o', 'forward', 'o'): 33, ('o', 'os', 's'): 215, ('s', 'so', 'o'): 215, ('s', 'ss', 's'): 100},\n",
       "      metagraph=[('o', 'o', 'backward'), ('o', 'o', 'forward'), ('o', 's', 'os'), ('s', 'o', 'so'), ('s', 's', 'ss')])"
      ]
     },
     "execution_count": 72,
     "metadata": {},
     "output_type": "execute_result"
    }
   ],
   "source": [
    "graph = dglgraph(problem, gamma)\n",
    "graph"
   ]
  },
  {
   "cell_type": "markdown",
   "id": "a2c8ac86",
   "metadata": {},
   "source": [
    "### Энкодер"
   ]
  },
  {
   "cell_type": "markdown",
   "id": "e8a9b4b3",
   "metadata": {},
   "source": [
    "Cвертка в вершины S\n",
    "* $h^{s}_{i} = W^s S_i $\n",
    "* $h^{ss}_{ij} = W^{ss} \\left[ S_i \\Vert SS_{ij}\\right]$\n",
    "* $h^{os}_{ij} = W^{os} \\left[O_i \\Vert OS_{ij} \\right]$\n",
    "* $e^{os}_{ij} = \\text{LeakyReLU}\\left(a^\\top\\left[ h^{os}_{ij} \\Vert h^s_j \\right]\\right)$\n",
    "* $ e^{ss}_{ij} = \\text{LeakyReLU}\\left(a^\\top\\left[h^{ss}_{ij} \\Vert h^s_j \\right]\\right)$\n",
    "* $\\alpha^{os}_i = \\text{Softmax}_{(i,j) \\in E_{os}} e^{os}_{ij}$\n",
    "* $\\alpha^{ss}_i = \\text{Softmax}_{(i,j) \\in E_{ss}} e^{ss}_{ij}$\n",
    "* $z_j = \\sum_{(i,j) \\in E_{ss}} \\alpha^{ss}_i h_{ij}^{ss} + \\sum_{(i,j) \\in E_{os}}\\alpha^{os}_i h^{os}_{ij} $"
   ]
  },
  {
   "cell_type": "markdown",
   "id": "fd053e6b",
   "metadata": {},
   "source": [
    "свертка в вершины O\n",
    "\n",
    "* $x_j = W^\\text{o}\\text{ReLU}\\left[\\sum_{(i,j) \\in E_{oo}} W^\\text{in} O_i \\Vert W^\\text{self} O_j \\Vert \\sum_{(j,i) \\in E_{oo}} W^\\text{out} O_i \\right]$"
   ]
  },
  {
   "cell_type": "markdown",
   "id": "86a25dda",
   "metadata": {},
   "source": [
    "### Декодер"
   ]
  },
  {
   "cell_type": "markdown",
   "id": "c4b0cab4",
   "metadata": {},
   "source": [
    "Софтмакс на ребрах\n",
    "\n",
    "$m_{ij} = e^{z_i^\\top x_j}$\n",
    "\n",
    "$p_{ij} = \\frac{m_{ij}}{\\sum_{(l, j) \\in E_{so}} m_{lj}}$\n"
   ]
  },
  {
   "cell_type": "code",
   "execution_count": 171,
   "id": "9e6c11b8",
   "metadata": {},
   "outputs": [],
   "source": [
    "class GNN(nn.Module):\n",
    "    def __init__(self, ins_dim, ino_dim, out_dim):\n",
    "        super().__init__()\n",
    "        self.conv0 = AttnConvLayer(ins_dim, ino_dim, out_dim)\n",
    "        self.conv1 = AttnConvLayer(out_dim, out_dim, out_dim)\n",
    "        self.dec = DotProductDecoder()\n",
    "    \n",
    "    def forward(self, graph):\n",
    "        s_feat = graph.ndata['feat']['s']\n",
    "        o_feat = graph.ndata['feat']['o']\n",
    "        s_hid, o_hid = self.conv0(graph, s_feat, o_feat)\n",
    "        s_hid, o_hid = self.conv1(graph, s_hid, o_hid)\n",
    "        prob = self.dec(g, s_hid, o_hid)\n",
    "        return prob"
   ]
  },
  {
   "cell_type": "code",
   "execution_count": 192,
   "id": "b6767629",
   "metadata": {},
   "outputs": [
    {
     "data": {
      "text/plain": [
       "tensor([0.1311, 0.1330, 0.1469, 0.1415, 0.1354, 0.1321, 0.1800, 0.1885, 0.1771,\n",
       "        0.1925, 0.2287, 0.2132, 0.1186, 0.1408, 0.1105, 0.1237, 0.1246, 0.1207,\n",
       "        0.1141, 0.1471, 0.0971, 0.1392, 0.0916, 0.0990, 0.1172, 0.1030, 0.0973,\n",
       "        0.1006, 0.1550, 0.1065, 0.0994, 0.1085, 0.1142, 0.1132, 0.1081, 0.1077,\n",
       "        0.1040, 0.1384, 0.1405, 0.1104, 0.1200, 0.1242, 0.1240, 0.1190, 0.1145,\n",
       "        0.1474, 0.1453, 0.1127, 0.1258, 0.1207, 0.1150, 0.1114, 0.1120, 0.1571,\n",
       "        0.1167, 0.1435, 0.1082, 0.1243, 0.1240, 0.1187, 0.1129, 0.1517, 0.1003,\n",
       "        0.1355, 0.0935, 0.1026, 0.1146, 0.1043, 0.1012, 0.1005, 0.1476, 0.1443,\n",
       "        0.1070, 0.1161, 0.1256, 0.1226, 0.1170, 0.1131, 0.1543, 0.1262, 0.1389,\n",
       "        0.1432, 0.1435, 0.1372, 0.1382, 0.1727, 0.1863, 0.1745, 0.1902, 0.2344,\n",
       "        0.2146, 0.1060, 0.0991, 0.1081, 0.1146, 0.1131, 0.1080, 0.1074, 0.1039,\n",
       "        0.1397, 0.1419, 0.1092, 0.1237, 0.1242, 0.1189, 0.1198, 0.1133, 0.1489,\n",
       "        0.1042, 0.1158, 0.1319, 0.1260, 0.1182, 0.1140, 0.1134, 0.1764, 0.1228,\n",
       "        0.1331, 0.1482, 0.1425, 0.1356, 0.1313, 0.1864, 0.1314, 0.1347, 0.1448,\n",
       "        0.1423, 0.1349, 0.1290, 0.1829, 0.1437, 0.1137, 0.1257, 0.1211, 0.1157,\n",
       "        0.1126, 0.1128, 0.1547, 0.1942, 0.1817, 0.1986, 0.2153, 0.2102, 0.0907,\n",
       "        0.1506, 0.0844, 0.0930, 0.1194, 0.0992, 0.0907, 0.0966, 0.1755, 0.1088,\n",
       "        0.1016, 0.1108, 0.1118, 0.1131, 0.1089, 0.1106, 0.1043, 0.1302, 0.1087,\n",
       "        0.1209, 0.1281, 0.1269, 0.1203, 0.1198, 0.1145, 0.1609, 0.1443, 0.1070,\n",
       "        0.1161, 0.1256, 0.1226, 0.1170, 0.1131, 0.1543, 0.1253, 0.1384, 0.1435,\n",
       "        0.1435, 0.1368, 0.1376, 0.1749, 0.1884, 0.1763, 0.1927, 0.2291, 0.2136,\n",
       "        0.1172, 0.1426, 0.1091, 0.1242, 0.1241, 0.1192, 0.1134, 0.1501, 0.0971,\n",
       "        0.1392, 0.0916, 0.0990, 0.1172, 0.1030, 0.0973, 0.1006, 0.1550, 0.1065,\n",
       "        0.0994, 0.1085, 0.1142, 0.1132, 0.1081, 0.1077, 0.1040, 0.1384],\n",
       "       grad_fn=<GSDDMMBackward>)"
      ]
     },
     "execution_count": 192,
     "metadata": {},
     "output_type": "execute_result"
    }
   ],
   "source": [
    "\n",
    "model(graph)"
   ]
  },
  {
   "cell_type": "code",
   "execution_count": 214,
   "id": "e98d4fa4",
   "metadata": {},
   "outputs": [],
   "source": [
    "model = GNN(1, problem['n_operations']+2, 32)\n",
    "optim = Adam(model.parameters(), lr=0.001)"
   ]
  },
  {
   "cell_type": "code",
   "execution_count": 228,
   "id": "66d4b0d7",
   "metadata": {},
   "outputs": [
    {
     "data": {
      "application/vnd.jupyter.widget-view+json": {
       "model_id": "9b4000b2d5f04046a7ed1a54489a0f01",
       "version_major": 2,
       "version_minor": 0
      },
      "text/plain": [
       "  0%|          | 0/100 [00:00<?, ?it/s]"
      ]
     },
     "metadata": {},
     "output_type": "display_data"
    },
    {
     "name": "stdout",
     "output_type": "stream",
     "text": [
      "0.2527468800544739\n",
      "0.24897931516170502\n",
      "0.2450663298368454\n",
      "0.24073068797588348\n",
      "0.23627012968063354\n",
      "0.23161667585372925\n",
      "0.22654925286769867\n",
      "0.22131304442882538\n",
      "0.21590551733970642\n",
      "0.21018779277801514\n",
      "0.20440971851348877\n",
      "0.1985923796892166\n",
      "0.19270355999469757\n",
      "0.1870233416557312\n",
      "0.18160368502140045\n",
      "0.17657370865345\n",
      "0.172183558344841\n",
      "0.16842715442180634\n",
      "0.16534821689128876\n",
      "0.16279329359531403\n",
      "0.16042469441890717\n",
      "0.15810827910900116\n",
      "0.15567797422409058\n",
      "0.15317904949188232\n",
      "0.1507633775472641\n",
      "0.14855021238327026\n",
      "0.14658094942569733\n",
      "0.1447756588459015\n",
      "0.1430051177740097\n",
      "0.14121539890766144\n",
      "0.13936541974544525\n",
      "0.1375230848789215\n",
      "0.13574662804603577\n",
      "0.13407789170742035\n",
      "0.13251066207885742\n",
      "0.1310051530599594\n",
      "0.12951786816120148\n",
      "0.12805123627185822\n",
      "0.12659062445163727\n",
      "0.12519170343875885\n",
      "0.12390778213739395\n",
      "0.12273397296667099\n",
      "0.12163344770669937\n",
      "0.1205371841788292\n",
      "0.11935985833406448\n",
      "0.11810775846242905\n",
      "0.11681455373764038\n",
      "0.1154956966638565\n",
      "0.11415402591228485\n",
      "0.11276169121265411\n",
      "0.11129233986139297\n",
      "0.10975172370672226\n",
      "0.10814442485570908\n",
      "0.10647697746753693\n",
      "0.10471539944410324\n",
      "0.10283937305212021\n",
      "0.10080674290657043\n",
      "0.0985955148935318\n",
      "0.09620760381221771\n",
      "0.09363161027431488\n",
      "0.0908440500497818\n",
      "0.08783034980297089\n",
      "0.08456440269947052\n",
      "0.08104375749826431\n",
      "0.07727450132369995\n",
      "0.07324423640966415\n",
      "0.06896844506263733\n",
      "0.06448997557163239\n",
      "0.05986497178673744\n",
      "0.05514458566904068\n",
      "0.050407130271196365\n",
      "0.04573473334312439\n",
      "0.041219789534807205\n",
      "0.03695831447839737\n",
      "0.03299794718623161\n",
      "0.029385881498456\n",
      "0.02614891342818737\n",
      "0.023290026932954788\n",
      "0.020781060680747032\n",
      "0.018590550869703293\n",
      "0.016677936539053917\n"
     ]
    },
    {
     "ename": "RuntimeError",
     "evalue": "all elements of input should be between 0 and 1",
     "output_type": "error",
     "traceback": [
      "\u001b[0;31m---------------------------------------------------------------------------\u001b[0m",
      "\u001b[0;31mRuntimeError\u001b[0m                              Traceback (most recent call last)",
      "Cell \u001b[0;32mIn[228], line 7\u001b[0m\n\u001b[1;32m      5\u001b[0m \u001b[38;5;28;01mfor\u001b[39;00m i \u001b[38;5;129;01min\u001b[39;00m trange(\u001b[38;5;241m100\u001b[39m):\n\u001b[1;32m      6\u001b[0m     prob \u001b[38;5;241m=\u001b[39m model(graph)\n\u001b[0;32m----> 7\u001b[0m     loss \u001b[38;5;241m=\u001b[39m \u001b[43mF\u001b[49m\u001b[38;5;241;43m.\u001b[39;49m\u001b[43mbinary_cross_entropy\u001b[49m\u001b[43m(\u001b[49m\u001b[43mprob\u001b[49m\u001b[43m,\u001b[49m\u001b[43m \u001b[49m\u001b[43mtarget\u001b[49m\u001b[43m)\u001b[49m\n\u001b[1;32m      8\u001b[0m     optim\u001b[38;5;241m.\u001b[39mzero_grad()\n\u001b[1;32m      9\u001b[0m     loss\u001b[38;5;241m.\u001b[39mbackward()\n",
      "File \u001b[0;32m~/opt/anaconda3/envs/gnn-cloud-manufacturing/lib/python3.9/site-packages/torch/nn/functional.py:3098\u001b[0m, in \u001b[0;36mbinary_cross_entropy\u001b[0;34m(input, target, weight, size_average, reduce, reduction)\u001b[0m\n\u001b[1;32m   3095\u001b[0m     new_size \u001b[38;5;241m=\u001b[39m _infer_size(target\u001b[38;5;241m.\u001b[39msize(), weight\u001b[38;5;241m.\u001b[39msize())\n\u001b[1;32m   3096\u001b[0m     weight \u001b[38;5;241m=\u001b[39m weight\u001b[38;5;241m.\u001b[39mexpand(new_size)\n\u001b[0;32m-> 3098\u001b[0m \u001b[38;5;28;01mreturn\u001b[39;00m \u001b[43mtorch\u001b[49m\u001b[38;5;241;43m.\u001b[39;49m\u001b[43m_C\u001b[49m\u001b[38;5;241;43m.\u001b[39;49m\u001b[43m_nn\u001b[49m\u001b[38;5;241;43m.\u001b[39;49m\u001b[43mbinary_cross_entropy\u001b[49m\u001b[43m(\u001b[49m\u001b[38;5;28;43minput\u001b[39;49m\u001b[43m,\u001b[49m\u001b[43m \u001b[49m\u001b[43mtarget\u001b[49m\u001b[43m,\u001b[49m\u001b[43m \u001b[49m\u001b[43mweight\u001b[49m\u001b[43m,\u001b[49m\u001b[43m \u001b[49m\u001b[43mreduction_enum\u001b[49m\u001b[43m)\u001b[49m\n",
      "\u001b[0;31mRuntimeError\u001b[0m: all elements of input should be between 0 and 1"
     ]
    }
   ],
   "source": [
    "graph = dglgraph(problem, gamma)\n",
    "graph.edata['feat'][('o', 'os', 's')][:, 0] = graph.edata['feat'][('o', 'os', 's')][:, 0] / 10\n",
    "graph.edata['feat'][('s', 'ss', 's')][:] = graph.edata['feat'][('s', 'ss', 's')] / 100\n",
    "target = graph.edata['target'][('o', 'os','s')][:, 0]\n",
    "for i in trange(100):\n",
    "    prob = model(graph)\n",
    "    loss = F.binary_cross_entropy(prob, target)\n",
    "    optim.zero_grad()\n",
    "    loss.backward()\n",
    "    optim.step()\n",
    "    print(loss.item())"
   ]
  },
  {
   "cell_type": "code",
   "execution_count": 218,
   "id": "fa7972f7",
   "metadata": {},
   "outputs": [
    {
     "data": {
      "text/plain": [
       "(tensor([0, 3, 7, 0, 3, 1, 1, 5, 9, 3, 7, 3, 5, 7, 3, 7, 3, 7, 3, 6, 3, 6, 3, 7,\n",
       "         0, 2, 3, 7]),\n",
       " tensor([ 0,  1,  2,  3,  4,  5,  6,  7,  8,  9, 10, 11, 12, 13, 14, 15, 16, 17,\n",
       "         18, 19, 20, 21, 22, 23, 24, 25, 26, 27]))"
      ]
     },
     "execution_count": 218,
     "metadata": {},
     "output_type": "execute_result"
    }
   ],
   "source": [
    "with torch.no_grad():\n",
    "    prob = model(graph)\n",
    "    u, v = model.dec.sample(graph, prob)\n",
    "u, v"
   ]
  },
  {
   "cell_type": "code",
   "execution_count": null,
   "id": "5cf4f8b0",
   "metadata": {},
   "outputs": [],
   "source": []
  }
 ],
 "metadata": {
  "kernelspec": {
   "display_name": "Python 3 (ipykernel)",
   "language": "python",
   "name": "python3"
  },
  "language_info": {
   "codemirror_mode": {
    "name": "ipython",
    "version": 3
   },
   "file_extension": ".py",
   "mimetype": "text/x-python",
   "name": "python",
   "nbconvert_exporter": "python",
   "pygments_lexer": "ipython3",
   "version": "3.9.17"
  }
 },
 "nbformat": 4,
 "nbformat_minor": 5
}
