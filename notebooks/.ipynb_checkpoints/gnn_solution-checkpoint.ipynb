{
 "cells": [
  {
   "cell_type": "code",
   "execution_count": 217,
   "id": "a6a2187a",
   "metadata": {},
   "outputs": [],
   "source": [
    "import dgl\n",
    "import torch\n",
    "import torch.nn as nn\n",
    "from torch.optim import Adam\n",
    "import torch.nn.functional as F\n",
    "from tqdm.auto import trange\n",
    "\n",
    "from cloudmanufacturing.data import read_fatahi_dataset\n",
    "from cloudmanufacturing.mip_solver import mip_solve\n",
    "from cloudmanufacturing.validation import objvalue, construct_delta\n",
    "from cloudmanufacturing.graph import dglgraph\n",
    "from cloudmanufacturing.graphconv import AttnConvLayer, DotProductDecoder"
   ]
  },
  {
   "cell_type": "code",
   "execution_count": 2,
   "id": "468cc477",
   "metadata": {},
   "outputs": [
    {
     "data": {
      "application/vnd.jupyter.widget-view+json": {
       "model_id": "497d2ff64a6d4a19a9e861e053ed3f0e",
       "version_major": 2,
       "version_minor": 0
      },
      "text/plain": [
       "  0%|          | 0/18 [00:00<?, ?it/s]"
      ]
     },
     "metadata": {},
     "output_type": "display_data"
    },
    {
     "data": {
      "text/plain": [
       "'5,10,10-1'"
      ]
     },
     "execution_count": 2,
     "metadata": {},
     "output_type": "execute_result"
    }
   ],
   "source": [
    "dataset = read_fatahi_dataset('../data/fatahi.xlsx')\n",
    "problem = dataset[0]\n",
    "problem['name']"
   ]
  },
  {
   "cell_type": "code",
   "execution_count": 3,
   "id": "a0c90858",
   "metadata": {},
   "outputs": [
    {
     "name": "stdout",
     "output_type": "stream",
     "text": [
      "Problem 5,10,10-1: 5086.08, OptimizationStatus.OPTIMAL\n"
     ]
    }
   ],
   "source": [
    "delta, gamma, status, value = mip_solve(problem)\n",
    "print(f'Problem {problem[\"name\"]}: {value:.2f}, {status}')"
   ]
  },
  {
   "cell_type": "code",
   "execution_count": 72,
   "id": "5e8a7905",
   "metadata": {},
   "outputs": [
    {
     "data": {
      "text/plain": [
       "Graph(num_nodes={'o': 30, 's': 10},\n",
       "      num_edges={('o', 'backward', 'o'): 33, ('o', 'forward', 'o'): 33, ('o', 'os', 's'): 215, ('s', 'so', 'o'): 215, ('s', 'ss', 's'): 100},\n",
       "      metagraph=[('o', 'o', 'backward'), ('o', 'o', 'forward'), ('o', 's', 'os'), ('s', 'o', 'so'), ('s', 's', 'ss')])"
      ]
     },
     "execution_count": 72,
     "metadata": {},
     "output_type": "execute_result"
    }
   ],
   "source": [
    "graph = dglgraph(problem, gamma)\n",
    "graph"
   ]
  },
  {
   "cell_type": "markdown",
   "id": "017e4af0",
   "metadata": {},
   "source": [
    "### Энкодер"
   ]
  },
  {
   "cell_type": "markdown",
   "id": "988b9df7",
   "metadata": {},
   "source": [
    "Cвертка в вершины S\n",
    "* $h^{s}_{i} = W^s S_i $\n",
    "* $h^{ss}_{ij} = W^{ss} \\left[ S_i \\Vert SS_{ij}\\right]$\n",
    "* $h^{os}_{ij} = W^{os} \\left[O_i \\Vert OS_{ij} \\right]$\n",
    "* $e^{os}_{ij} = \\text{LeakyReLU}\\left(a^\\top\\left[ h^{os}_{ij} \\Vert h^s_j \\right]\\right)$\n",
    "* $ e^{ss}_{ij} = \\text{LeakyReLU}\\left(a^\\top\\left[h^{ss}_{ij} \\Vert h^s_j \\right]\\right)$\n",
    "* $\\alpha^{os}_i = \\text{Softmax}_{(i,j) \\in E_{os}} e^{os}_{ij}$\n",
    "* $\\alpha^{ss}_i = \\text{Softmax}_{(i,j) \\in E_{ss}} e^{ss}_{ij}$\n",
    "* $z_j = \\sum_{(i,j) \\in E_{ss}} \\alpha^{ss}_i h_{ij}^{ss} + \\sum_{(i,j) \\in E_{os}}\\alpha^{os}_i h^{os}_{ij} $"
   ]
  },
  {
   "cell_type": "markdown",
   "id": "4442ee17",
   "metadata": {},
   "source": [
    "свертка в вершины O\n",
    "\n",
    "* $x_j = W^\\text{o}\\text{ReLU}\\left[\\sum_{(i,j) \\in E_{oo}} W^\\text{in} O_i \\Vert W^\\text{self} O_j \\Vert \\sum_{(j,i) \\in E_{oo}} W^\\text{out} O_i \\right]$"
   ]
  },
  {
   "cell_type": "markdown",
   "id": "081947cc",
   "metadata": {},
   "source": [
    "### Декодер"
   ]
  },
  {
   "cell_type": "markdown",
   "id": "659fd37a",
   "metadata": {},
   "source": [
    "Софтмакс на ребрах\n",
    "\n",
    "$m_{ij} = e^{z_i^\\top x_j}$\n",
    "\n",
    "$p_{ij} = \\frac{m_{ij}}{\\sum_{(l, j) \\in E_{so}} m_{lj}}$\n"
   ]
  },
  {
   "cell_type": "code",
   "execution_count": 171,
   "id": "cefe1417",
   "metadata": {},
   "outputs": [],
   "source": [
    "class GNN(nn.Module):\n",
    "    def __init__(self, ins_dim, ino_dim, out_dim):\n",
    "        super().__init__()\n",
    "        self.conv0 = AttnConvLayer(ins_dim, ino_dim, out_dim)\n",
    "        self.conv1 = AttnConvLayer(out_dim, out_dim, out_dim)\n",
    "        self.dec = DotProductDecoder()\n",
    "    \n",
    "    def forward(self, graph):\n",
    "        s_feat = graph.ndata['feat']['s']\n",
    "        o_feat = graph.ndata['feat']['o']\n",
    "        s_hid, o_hid = self.conv0(graph, s_feat, o_feat)\n",
    "        s_hid, o_hid = self.conv1(graph, s_hid, o_hid)\n",
    "        prob = self.dec(g, s_hid, o_hid)\n",
    "        return prob"
   ]
  },
  {
   "cell_type": "code",
   "execution_count": 192,
   "id": "d49131f6",
   "metadata": {},
   "outputs": [
    {
     "data": {
      "text/plain": [
       "tensor([0.1311, 0.1330, 0.1469, 0.1415, 0.1354, 0.1321, 0.1800, 0.1885, 0.1771,\n",
       "        0.1925, 0.2287, 0.2132, 0.1186, 0.1408, 0.1105, 0.1237, 0.1246, 0.1207,\n",
       "        0.1141, 0.1471, 0.0971, 0.1392, 0.0916, 0.0990, 0.1172, 0.1030, 0.0973,\n",
       "        0.1006, 0.1550, 0.1065, 0.0994, 0.1085, 0.1142, 0.1132, 0.1081, 0.1077,\n",
       "        0.1040, 0.1384, 0.1405, 0.1104, 0.1200, 0.1242, 0.1240, 0.1190, 0.1145,\n",
       "        0.1474, 0.1453, 0.1127, 0.1258, 0.1207, 0.1150, 0.1114, 0.1120, 0.1571,\n",
       "        0.1167, 0.1435, 0.1082, 0.1243, 0.1240, 0.1187, 0.1129, 0.1517, 0.1003,\n",
       "        0.1355, 0.0935, 0.1026, 0.1146, 0.1043, 0.1012, 0.1005, 0.1476, 0.1443,\n",
       "        0.1070, 0.1161, 0.1256, 0.1226, 0.1170, 0.1131, 0.1543, 0.1262, 0.1389,\n",
       "        0.1432, 0.1435, 0.1372, 0.1382, 0.1727, 0.1863, 0.1745, 0.1902, 0.2344,\n",
       "        0.2146, 0.1060, 0.0991, 0.1081, 0.1146, 0.1131, 0.1080, 0.1074, 0.1039,\n",
       "        0.1397, 0.1419, 0.1092, 0.1237, 0.1242, 0.1189, 0.1198, 0.1133, 0.1489,\n",
       "        0.1042, 0.1158, 0.1319, 0.1260, 0.1182, 0.1140, 0.1134, 0.1764, 0.1228,\n",
       "        0.1331, 0.1482, 0.1425, 0.1356, 0.1313, 0.1864, 0.1314, 0.1347, 0.1448,\n",
       "        0.1423, 0.1349, 0.1290, 0.1829, 0.1437, 0.1137, 0.1257, 0.1211, 0.1157,\n",
       "        0.1126, 0.1128, 0.1547, 0.1942, 0.1817, 0.1986, 0.2153, 0.2102, 0.0907,\n",
       "        0.1506, 0.0844, 0.0930, 0.1194, 0.0992, 0.0907, 0.0966, 0.1755, 0.1088,\n",
       "        0.1016, 0.1108, 0.1118, 0.1131, 0.1089, 0.1106, 0.1043, 0.1302, 0.1087,\n",
       "        0.1209, 0.1281, 0.1269, 0.1203, 0.1198, 0.1145, 0.1609, 0.1443, 0.1070,\n",
       "        0.1161, 0.1256, 0.1226, 0.1170, 0.1131, 0.1543, 0.1253, 0.1384, 0.1435,\n",
       "        0.1435, 0.1368, 0.1376, 0.1749, 0.1884, 0.1763, 0.1927, 0.2291, 0.2136,\n",
       "        0.1172, 0.1426, 0.1091, 0.1242, 0.1241, 0.1192, 0.1134, 0.1501, 0.0971,\n",
       "        0.1392, 0.0916, 0.0990, 0.1172, 0.1030, 0.0973, 0.1006, 0.1550, 0.1065,\n",
       "        0.0994, 0.1085, 0.1142, 0.1132, 0.1081, 0.1077, 0.1040, 0.1384],\n",
       "       grad_fn=<GSDDMMBackward>)"
      ]
     },
     "execution_count": 192,
     "metadata": {},
     "output_type": "execute_result"
    }
   ],
   "source": [
    "\n",
    "model(graph)"
   ]
  },
  {
   "cell_type": "code",
   "execution_count": 214,
   "id": "490e0fa4",
   "metadata": {},
   "outputs": [],
   "source": [
    "model = GNN(1, problem['n_operations']+2, 32)\n",
    "optim = Adam(model.parameters(), lr=0.001)"
   ]
  },
  {
   "cell_type": "code",
   "execution_count": 215,
   "id": "c6f82717",
   "metadata": {},
   "outputs": [
    {
     "data": {
      "application/vnd.jupyter.widget-view+json": {
       "model_id": "5f1c5b7472e141ec8a866cd4fb23525f",
       "version_major": 2,
       "version_minor": 0
      },
      "text/plain": [
       "  0%|          | 0/40 [00:00<?, ?it/s]"
      ]
     },
     "metadata": {},
     "output_type": "display_data"
    },
    {
     "name": "stdout",
     "output_type": "stream",
     "text": [
      "0.38955169916152954\n",
      "0.37730804085731506\n",
      "0.3682747185230255\n",
      "0.3615279793739319\n",
      "0.3563997745513916\n",
      "0.35248610377311707\n",
      "0.34953877329826355\n",
      "0.34723979234695435\n",
      "0.3453183174133301\n",
      "0.34361138939857483\n",
      "0.3419685661792755\n",
      "0.3402700424194336\n",
      "0.33839717507362366\n",
      "0.33623987436294556\n",
      "0.33380550146102905\n",
      "0.3311263918876648\n",
      "0.32828304171562195\n",
      "0.3253519833087921\n",
      "0.32236623764038086\n",
      "0.3194080889225006\n",
      "0.31656160950660706\n",
      "0.3137825131416321\n",
      "0.31102070212364197\n",
      "0.3081643879413605\n",
      "0.3051301836967468\n",
      "0.3019302785396576\n",
      "0.2985667288303375\n",
      "0.2951347827911377\n",
      "0.2918093800544739\n",
      "0.288674920797348\n",
      "0.28556546568870544\n",
      "0.28237804770469666\n",
      "0.2791108191013336\n",
      "0.2758972644805908\n",
      "0.272874653339386\n",
      "0.2698403596878052\n",
      "0.26652294397354126\n",
      "0.2631475329399109\n",
      "0.25990840792655945\n",
      "0.25650376081466675\n"
     ]
    }
   ],
   "source": [
    "graph = dglgraph(problem, gamma)\n",
    "graph.edata['feat'][('o', 'os', 's')][:, 0] = graph.edata['feat'][('o', 'os', 's')][:, 0] / 10\n",
    "graph.edata['feat'][('s', 'ss', 's')][:] = graph.edata['feat'][('s', 'ss', 's')] / 100\n",
    "target = graph.edata['target'][('o', 'os','s')][:, 0]\n",
    "for i in trange(40):\n",
    "    prob = model(graph)\n",
    "    loss = F.binary_cross_entropy(prob, target)\n",
    "    optim.zero_grad()\n",
    "    loss.backward()\n",
    "    optim.step()\n",
    "    print(loss.item())"
   ]
  },
  {
   "cell_type": "code",
   "execution_count": 218,
   "id": "b574aaaf",
   "metadata": {},
   "outputs": [
    {
     "data": {
      "text/plain": [
       "(tensor([0, 3, 7, 0, 3, 1, 1, 5, 9, 3, 7, 3, 5, 7, 3, 7, 3, 7, 3, 6, 3, 6, 3, 7,\n",
       "         0, 2, 3, 7]),\n",
       " tensor([ 0,  1,  2,  3,  4,  5,  6,  7,  8,  9, 10, 11, 12, 13, 14, 15, 16, 17,\n",
       "         18, 19, 20, 21, 22, 23, 24, 25, 26, 27]))"
      ]
     },
     "execution_count": 218,
     "metadata": {},
     "output_type": "execute_result"
    }
   ],
   "source": [
    "with torch.no_grad():\n",
    "    prob = model(graph)\n",
    "    u, v = model.dec.sample(graph, prob)\n",
    "u, v"
   ]
  },
  {
   "cell_type": "code",
   "execution_count": null,
   "id": "f1187522",
   "metadata": {},
   "outputs": [],
   "source": []
  }
 ],
 "metadata": {
  "kernelspec": {
   "display_name": "Python 3 (ipykernel)",
   "language": "python",
   "name": "python3"
  },
  "language_info": {
   "codemirror_mode": {
    "name": "ipython",
    "version": 3
   },
   "file_extension": ".py",
   "mimetype": "text/x-python",
   "name": "python",
   "nbconvert_exporter": "python",
   "pygments_lexer": "ipython3",
   "version": "3.9.17"
  }
 },
 "nbformat": 4,
 "nbformat_minor": 5
}
