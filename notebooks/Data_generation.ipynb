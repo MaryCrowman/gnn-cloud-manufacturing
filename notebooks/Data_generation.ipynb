{
 "cells": [
  {
   "cell_type": "code",
   "execution_count": 1,
   "id": "089f7b2b",
   "metadata": {},
   "outputs": [],
   "source": [
    "import sys\n",
    "sys.path.append(\"D:/gnn-cloud-manufacturing/\")"
   ]
  },
  {
   "cell_type": "markdown",
   "id": "5f633b81",
   "metadata": {},
   "source": []
  },
  {
   "cell_type": "code",
   "execution_count": 2,
   "id": "6d34da27",
   "metadata": {},
   "outputs": [
    {
     "name": "stderr",
     "output_type": "stream",
     "text": [
      "c:\\Users\\ASUS Vivobook\\AppData\\Local\\Programs\\Python\\Python310\\lib\\site-packages\\tqdm\\auto.py:21: TqdmWarning: IProgress not found. Please update jupyter and ipywidgets. See https://ipywidgets.readthedocs.io/en/stable/user_install.html\n",
      "  from .autonotebook import tqdm as notebook_tqdm\n"
     ]
    }
   ],
   "source": [
    "import numpy as np\n",
    "import matplotlib.pyplot as plt\n",
    "import random\n",
    "import openpyxl\n",
    "import os\n",
    "from cloudmanufacturing.data import create_distance_matrix\n",
    "from cloudmanufacturing.data import create_excel_table\n",
    "from cloudmanufacturing.data import solve_excel\n",
    "from cloudmanufacturing.data import read_fatahi_dataset\n",
    "from cloudmanufacturing.mip_solver import mip_solve\n",
    "from cloudmanufacturing.validation import objvalue, construct_delta"
   ]
  },
  {
   "cell_type": "markdown",
   "id": "8ce89f03",
   "metadata": {},
   "source": [
    "## Генерация тренировочных данных"
   ]
  },
  {
   "cell_type": "code",
   "execution_count": 15,
   "id": "4a6b59e8",
   "metadata": {},
   "outputs": [],
   "source": [
    "trios = []\n",
    "for i in range(10):\n",
    "    trios.append(tuple((random.randint(3,25),random.randint(3,25),random.randint(3,25))))\n",
    "trios.sort()"
   ]
  },
  {
   "cell_type": "code",
   "execution_count": 16,
   "id": "7a080b9c",
   "metadata": {},
   "outputs": [],
   "source": [
    "file_path = '../data/train_data.xlsx'\n",
    "wb = openpyxl.Workbook()\n",
    "wb.save(file_path)"
   ]
  },
  {
   "cell_type": "code",
   "execution_count": 17,
   "id": "0105dba6",
   "metadata": {},
   "outputs": [],
   "source": [
    "sheets = []\n",
    "for n_operations, n_suboperations, n_cities in trios:\n",
    "    sheets.append(create_excel_table(n_operations, n_suboperations, n_cities, n_problem=1, filepath=file_path ))"
   ]
  },
  {
   "cell_type": "markdown",
   "id": "d8e56248",
   "metadata": {},
   "source": [
    "## Обучение на тренировочных данных"
   ]
  },
  {
   "cell_type": "code",
   "execution_count": 18,
   "id": "abd0d3a9",
   "metadata": {
    "scrolled": true
   },
   "outputs": [
    {
     "name": "stderr",
     "output_type": "stream",
     "text": [
      "100%|██████████| 10/10 [00:02<00:00,  4.67it/s]\n"
     ]
    }
   ],
   "source": [
    "dataset = read_fatahi_dataset('../data/train_data.xlsx', sheets)"
   ]
  },
  {
   "cell_type": "code",
   "execution_count": 19,
   "id": "2720a558",
   "metadata": {},
   "outputs": [],
   "source": [
    "filepath = '../data/solved_gen_data.xlsx'\n",
    "wb = openpyxl.Workbook()\n",
    "\n",
    "wb.save(filepath)"
   ]
  },
  {
   "cell_type": "code",
   "execution_count": 21,
   "id": "afd9c10c",
   "metadata": {},
   "outputs": [],
   "source": [
    "filepath = './solved_gen_data.xlsx'\n",
    "for problem in dataset:\n",
    "    delta, gamma, status, value = mip_solve(problem)\n",
    "    \n",
    "    sheet_name = problem['name']\n",
    "    city_to_op_solution = []\n",
    "    otc=[]\n",
    "    for o, t, c in zip(*np.where(gamma == 1)):\n",
    "        city_to_op_solution.append((f'city {c}', f'{t}_{o}'))\n",
    "        otc.append([o,t,c])\n",
    "    shape_g = np.shape(gamma)\n",
    "    solve_excel(fpath, sheet_name, city_to_op_solution, otc, shape_g)"
   ]
  }
 ],
 "metadata": {
  "kernelspec": {
   "display_name": "Python 3 (ipykernel)",
   "language": "python",
   "name": "python3"
  },
  "language_info": {
   "codemirror_mode": {
    "name": "ipython",
    "version": 3
   },
   "file_extension": ".py",
   "mimetype": "text/x-python",
   "name": "python",
   "nbconvert_exporter": "python",
   "pygments_lexer": "ipython3",
   "version": "3.10.0"
  }
 },
 "nbformat": 4,
 "nbformat_minor": 5
}
