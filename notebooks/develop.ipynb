{
 "cells": [
  {
   "cell_type": "code",
   "execution_count": 1,
   "id": "fb6de5b1",
   "metadata": {},
   "outputs": [],
   "source": [
    "import numpy as np\n",
    "import pandas as pd\n",
    "from src.data import read_fatahi_dataset\n",
    "from src.mip_solver import mip_solve\n",
    "from src.validation import objvalue\n",
    "from tqdm.notebook import tqdm"
   ]
  },
  {
   "cell_type": "code",
   "execution_count": 2,
   "id": "8152f915",
   "metadata": {
    "scrolled": false
   },
   "outputs": [
    {
     "name": "stderr",
     "output_type": "stream",
     "text": [
      "100%|██████████| 18/18 [00:07<00:00,  2.33it/s]\n"
     ]
    }
   ],
   "source": [
    "dataset = read_fatahi_dataset('data/fatahi.xlsx')"
   ]
  },
  {
   "cell_type": "code",
   "execution_count": null,
   "id": "2afc3247",
   "metadata": {},
   "outputs": [
    {
     "data": {
      "application/vnd.jupyter.widget-view+json": {
       "model_id": "8b1fba9033cb4dc38fb67ef40e9dc368",
       "version_major": 2,
       "version_minor": 0
      },
      "text/plain": [
       "  0%|          | 0/18 [00:00<?, ?it/s]"
      ]
     },
     "metadata": {},
     "output_type": "display_data"
    },
    {
     "name": "stdout",
     "output_type": "stream",
     "text": [
      "Problem 5,10,10-1: 5086.08, OptimizationStatus.OPTIMAL\n",
      "Problem 5,10,10-2: 7352.66, OptimizationStatus.FEASIBLE\n"
     ]
    }
   ],
   "source": [
    "for problem in tqdm(dataset):\n",
    "    delta, gamma, status, value = mip_solve(\n",
    "        problem['n_tasks'], \n",
    "        problem['n_operations'], \n",
    "        problem['n_cities'], \n",
    "        problem['n_services'], \n",
    "        problem['operation'], \n",
    "        problem['dist'], \n",
    "        problem['time_cost'], \n",
    "        problem['op_cost'], \n",
    "        problem['productivity'], \n",
    "        problem['transportation_cost'],\n",
    "    )\n",
    "    name = problem['name']\n",
    "    print(f'Problem {name}: {value:.2f}, {status}')"
   ]
  },
  {
   "cell_type": "code",
   "execution_count": 4,
   "id": "4da4f40d",
   "metadata": {},
   "outputs": [],
   "source": [
    "_value = objective_value(\n",
    "    problem['time_cost'], \n",
    "    problem['op_cost'], \n",
    "    problem['productivity'], \n",
    "    problem['transportation_cost'], \n",
    "    problem['dist'], \n",
    "    gamma, \n",
    "    delta\n",
    ")"
   ]
  },
  {
   "cell_type": "code",
   "execution_count": null,
   "id": "7f0e64e9",
   "metadata": {},
   "outputs": [],
   "source": []
  }
 ],
 "metadata": {
  "kernelspec": {
   "display_name": "Python 3",
   "language": "python",
   "name": "python3"
  },
  "language_info": {
   "codemirror_mode": {
    "name": "ipython",
    "version": 3
   },
   "file_extension": ".py",
   "mimetype": "text/x-python",
   "name": "python",
   "nbconvert_exporter": "python",
   "pygments_lexer": "ipython3",
   "version": "3.7.4"
  }
 },
 "nbformat": 4,
 "nbformat_minor": 5
}
