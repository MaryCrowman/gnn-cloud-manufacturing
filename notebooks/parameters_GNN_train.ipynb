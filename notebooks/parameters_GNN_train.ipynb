{
 "cells": [
  {
   "cell_type": "code",
   "execution_count": null,
   "metadata": {},
   "outputs": [],
   "source": [
    "#import sys\n",
    "#sys.path.append(\"D:/gnn-cloud-manufacturing/\")\n",
    "\n",
    "import torch\n",
    "from torch.optim import Adam\n",
    "from tqdm.auto import trange\n",
    "import matplotlib.pyplot as plt\n",
    "from tqdm.auto import trange\n",
    "from cloudmanufacturing.data import read_fatahi_dataset\n",
    "from cloudmanufacturing.validation import objvalue, construct_delta, Dataset\n",
    "from cloudmanufacturing.graph import os_type\n",
    "from cloudmanufacturing.graphconv import GNN\n",
    "import dgl\n",
    "from dgl.dataloading import GraphDataLoader\n",
    "import pickle\n",
    "import torch.nn.functional as F\n",
    "import logging\n",
    "import torch\n",
    "from torch.optim import Adam\n"
   ]
  },
  {
   "cell_type": "code",
   "execution_count": null,
   "metadata": {},
   "outputs": [],
   "source": [
    "with open('../data/train_dataset/train_data_sheet_names.pickle' , 'rb') as s:\n",
    "    sheet_names = pickle.load(s)\n",
    "dataset = read_fatahi_dataset('../data/train_dataset/train_data_OPTIMAL.xlsx', sheet_names)"
   ]
  },
  {
   "cell_type": "code",
   "execution_count": null,
   "metadata": {},
   "outputs": [],
   "source": [
    "with open('../data/train_dataset/train_data_solve.pickle' , 'rb') as f:\n",
    "    # Загружаем dgl графы в список\n",
    "    DGList = pickle.load(f)"
   ]
  },
  {
   "cell_type": "code",
   "execution_count": null,
   "metadata": {},
   "outputs": [],
   "source": [
    "DGList.pop(26)\n",
    "dataset.pop(26)"
   ]
  },
  {
   "cell_type": "code",
   "execution_count": null,
   "metadata": {},
   "outputs": [],
   "source": [
    "train_dataset = Dataset(DGList[:45], dataset[:45])\n",
    "val_dataset = Dataset(DGList[45:], dataset[45:])"
   ]
  },
  {
   "cell_type": "code",
   "execution_count": null,
   "metadata": {},
   "outputs": [],
   "source": [
    "logger = logging.getLogger(\"../data/GNN_run\")\n",
    "logger.setLevel(logging.INFO)\n",
    "\n",
    "fh = logging.FileHandler(\"../data/GNN_run.log\")\n",
    "\n",
    "formatter = logging.Formatter('%(asctime)s - %(name)s - %(levelname)s - %(message)s')\n",
    "fh.setFormatter(formatter)\n",
    "\n",
    "logger.addHandler(fh)"
   ]
  },
  {
   "cell_type": "code",
   "execution_count": null,
   "metadata": {},
   "outputs": [],
   "source": [
    "n_epochs = 5000\n",
    "# Списки значений параметров, которые вы хотите протестировать\n",
    "lr_values = [0.001, 0.01, 0.1]\n",
    "n_layers_values = [1, 2, 3]\n",
    "batch_size_values = [4, 8]\n",
    "\n",
    "results_file = open(\"../data/results_objvalues.txt\", \"a\")\n",
    "\n",
    "logger.info('Start training')\n",
    "\n",
    "try:\n",
    "\n",
    "    for lr in lr_values:\n",
    "        for n_layers in n_layers_values:\n",
    "            for batch_size in batch_size_values:\n",
    "                # Создание модели с новыми параметрами\n",
    "                model = GNN(ins_dim=1, ino_dim=20, out_dim=16, n_layers=n_layers)\n",
    "                optim = Adam(model.parameters(), lr=lr)\n",
    "                \n",
    "                train_loader = GraphDataLoader(\n",
    "                    train_dataset,\n",
    "                    batch_size=batch_size,\n",
    "                    drop_last=False,\n",
    "                    shuffle=True\n",
    "                )\n",
    "\n",
    "                val_loader = GraphDataLoader(\n",
    "                    val_dataset,\n",
    "                    batch_size=batch_size,\n",
    "                    drop_last=False,\n",
    "                    shuffle=False\n",
    "                )\n",
    "\n",
    "                # Здесь должен быть код для загрузки данных и создания DataLoader'ов\n",
    "\n",
    "                # Запуск обучения\n",
    "                for epoch in trange(n_epochs):\n",
    "                    train_objvalue = []\n",
    "                    for batch, idx in train_loader:\n",
    "                        logits = model(batch)\n",
    "                        target = batch.edata['target'][os_type]\n",
    "                        loss = F.binary_cross_entropy_with_logits(logits, target)\n",
    "                        batch_loss = loss.item()\n",
    "                        optim.zero_grad()\n",
    "                        loss.backward()\n",
    "                        optim.step()\n",
    "                        logger.info(f\"{epoch} epoch batch loss is {batch_loss}\")\n",
    "\n",
    "                        # Validation\n",
    "\n",
    "                        # Save results to file\n",
    "\n",
    "                        \n",
    "                        for i, graph in enumerate(dgl.unbatch(batch)):\n",
    "                            problem = dataset[idx[i]]\n",
    "                            with graph.local_scope():\n",
    "                                pred_gamma = model.predict(graph, problem)\n",
    "                            train_objvalue.append(\n",
    "                                objvalue(problem, pred_gamma, construct_delta(problem, pred_gamma))\n",
    "                            )\n",
    "\n",
    "                    \n",
    "\n",
    "                    train_loss = sum(train_objvalue)/len(train_objvalue)\n",
    "                    val_loss = validate(model, val_loader, dataset)\n",
    "\n",
    "                    if epoch%10==0:\n",
    "                        print('Epoch: ', epoch, 'Train: ', train_loss, 'Val: ', val_loss)  \n",
    "                        print(f\"batch_size: {batch_size}, n_layers: {n_layers}, lr: {lr}, epoch: {epoch}, train_loss: {train_loss}, val_loss: {val_loss}\\n\")\n",
    "\n",
    "                        results_file.write(f\"batch_size: {batch_size}, n_layers: {n_layers}, lr: {lr}, epoch: {epoch}, train_loss: {train_loss}, val_loss: {val_loss}\\n\")\n",
    "\n",
    "    results_file.close()\n",
    "\n",
    "except Exception as e:\n",
    "    print(f\"An error occurred: {e}\")\n",
    "\n",
    "finally:\n",
    "    results_file.close()\n"
   ]
  }
 ],
 "metadata": {
  "kernelspec": {
   "display_name": "Python 3 (ipykernel)",
   "language": "python",
   "name": "python3"
  },
  "language_info": {
   "codemirror_mode": {
    "name": "ipython",
    "version": 3
   },
   "file_extension": ".py",
   "mimetype": "text/x-python",
   "name": "python",
   "nbconvert_exporter": "python",
   "pygments_lexer": "ipython3",
   "version": "3.10.0"
  }
 },
 "nbformat": 4,
 "nbformat_minor": 2
}
