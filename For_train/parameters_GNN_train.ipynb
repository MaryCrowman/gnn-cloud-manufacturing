{
 "cells": [
  {
   "cell_type": "code",
   "execution_count": 22,
   "metadata": {},
   "outputs": [],
   "source": [
    "import sys\n",
    "sys.path.append(\"D:/gnn-cloud-manufacturing/\")\n",
    "\n",
    "import torch\n",
    "from torch.optim import Adam\n",
    "from tqdm.auto import trange\n",
    "import matplotlib.pyplot as plt\n",
    "from tqdm.auto import trange\n",
    "from cloudmanufacturing.data import read_fatahi_dataset\n",
    "from cloudmanufacturing.validation import objvalue, construct_delta, Dataset, validate\n",
    "from cloudmanufacturing.graph import os_type\n",
    "from cloudmanufacturing.graphconv import GNN\n",
    "import dgl\n",
    "from dgl.dataloading import GraphDataLoader\n",
    "import pickle\n",
    "import torch.nn.functional as F\n",
    "import logging\n",
    "import torch\n",
    "from torch.optim import Adam\n",
    "from cloudmanufacturing.mip_solver import mip_solve\n",
    "from cloudmanufacturing.graph import dglgraph_fixed, os_type, ss_type\n",
    "import numpy as np\n",
    "import random"
   ]
  },
  {
   "cell_type": "code",
   "execution_count": 3,
   "metadata": {},
   "outputs": [],
   "source": [
    "data_path = \"../data/\""
   ]
  },
  {
   "cell_type": "code",
   "execution_count": 4,
   "metadata": {},
   "outputs": [],
   "source": [
    "with open(data_path + 'TRAIN_dataset_solve.pickle' , 'rb') as s:\n",
    "    dataset = pickle.load(s)\n",
    "    \n",
    "with open(data_path + 'TRAIN_solve.pickle' , 'rb') as f:\n",
    "    # Загружаем dgl графы в список\n",
    "    DGList = pickle.load(f)"
   ]
  },
  {
   "cell_type": "code",
   "execution_count": 6,
   "metadata": {},
   "outputs": [],
   "source": [
    "logger = logging.getLogger(data_path + \"GNN_progress\")\n",
    "logger.setLevel(logging.INFO)\n",
    "\n",
    "fh = logging.FileHandler(data_path + \"GNN_progress.log\")\n",
    "\n",
    "formatter = logging.Formatter('%(asctime)s - %(name)s - %(levelname)s - %(message)s')\n",
    "fh.setFormatter(formatter)\n",
    "\n",
    "logger.addHandler(fh)"
   ]
  },
  {
   "cell_type": "code",
   "execution_count": 7,
   "metadata": {},
   "outputs": [
    {
     "name": "stdout",
     "output_type": "stream",
     "text": [
      "[93, 75, 97, 42, 99, 47, 76, 19, 95, 91, 72, 46, 48, 34, 18, 56]\n"
     ]
    }
   ],
   "source": [
    "indexes = random.sample(range(len(dataset)), 16)\n",
    "logger.info(indexes)\n",
    "\n",
    "DGList_train = [DGList[i] for i in range(len(dataset)) if i not in indexes]\n",
    "dataset_train = [dataset[i] for i in range(len(dataset)) if i not in indexes]\n",
    "\n",
    "DGList_val = [DGList[i] for i in indexes]\n",
    "dataset_val = [dataset[i] for i in indexes]\n",
    "\n",
    "train_dataset = Dataset(DGList_train, dataset_train)\n",
    "val_dataset = Dataset(DGList_val, dataset_val)"
   ]
  },
  {
   "cell_type": "code",
   "execution_count": 24,
   "metadata": {},
   "outputs": [
    {
     "data": {
      "application/vnd.jupyter.widget-view+json": {
       "model_id": "6e65387b9c644ffe8e58982fffa17542",
       "version_major": 2,
       "version_minor": 0
      },
      "text/plain": [
       "  0%|          | 0/1000 [00:00<?, ?it/s]"
      ]
     },
     "metadata": {},
     "output_type": "display_data"
    }
   ],
   "source": [
    "n_epochs = 1000\n",
    "# Списки значений параметров, которые вы хотите протестировать\n",
    "lr_values = [0.001, 0.01, 0.1]\n",
    "n_layers_values = [1, 2, 3]\n",
    "batch_size_values = [4, 8]\n",
    "\n",
    "results_file = open(data_path + \"results_objvalues.txt\", \"a\")\n",
    "\n",
    "logger.info('Start training')\n",
    "\n",
    "try:\n",
    "\n",
    "    for lr in lr_values:\n",
    "        for n_layers in n_layers_values:\n",
    "            for batch_size in batch_size_values:\n",
    "\n",
    "                # Создание модели с новыми параметрами\n",
    "                model = GNN(ins_dim=1, ino_dim=20, out_dim=16, n_layers=n_layers)\n",
    "                optim = Adam(model.parameters(), lr=lr)\n",
    "                \n",
    "                train_loader = GraphDataLoader(\n",
    "                    train_dataset,\n",
    "                    batch_size=batch_size,\n",
    "                    drop_last=True,\n",
    "                    shuffle=True\n",
    "                )\n",
    "\n",
    "                val_loader = GraphDataLoader(\n",
    "                    val_dataset,\n",
    "                    batch_size=batch_size,\n",
    "                    drop_last=True,\n",
    "                    shuffle=False\n",
    "                )\n",
    "\n",
    "                for epoch in trange(n_epochs):\n",
    "                    train_objvalue = []\n",
    "                    for batch, idx in train_loader:\n",
    "                        logits = model(batch)\n",
    "                        target = batch.edata['target'][os_type]\n",
    "                        loss = F.binary_cross_entropy_with_logits(logits, target)\n",
    "                        batch_loss = loss.item()\n",
    "                        optim.zero_grad()\n",
    "                        loss.backward()\n",
    "                        optim.step()\n",
    "\n",
    "                        \n",
    "                        for i, graph in enumerate(dgl.unbatch(batch)):\n",
    "                            problem = dataset_train[idx[i]]\n",
    "                            with graph.local_scope():\n",
    "                                pred_gamma = model.predict(graph, problem)\n",
    "                                pred_gamma *= np.broadcast_to(problem['operation'][:, :, np.newaxis], pred_gamma.shape) \n",
    "                            train_objvalue.append(\n",
    "                                objvalue(problem, pred_gamma, construct_delta(problem, pred_gamma))\n",
    "                            )\n",
    "\n",
    "                    \n",
    "\n",
    "                    train_loss = sum(train_objvalue)/len(train_objvalue)\n",
    "                    val_loss = validate(model, val_loader, dataset_val)\n",
    "                    logger.info(f\"batch_size: {batch_size}, n_layers: {n_layers}, lr: {lr}, epoch: {epoch}, train_loss: {train_loss}, val_loss: {val_loss}\")\n",
    "                    if epoch%1==0:\n",
    "                        results_file.write(f\"batch_size: {batch_size}, n_layers: {n_layers}, lr: {lr}, epoch: {epoch}, train_loss: {train_loss}, val_loss: {val_loss}\\n\")\n",
    "                \n",
    "                Path = data_path + \"model_\" + f\"batch_size:{batch_size},n_layers:{n_layers},lr:{lr},epoch:{epoch},train_loss:{train_loss},val_loss:{val_loss}_best.pth\"\n",
    "                torch.save(model.state_dict(), Path)\n",
    "    results_file.close()\n",
    "\n",
    "except:\n",
    "    logger.error(\"An error occurred:\", exc_info=True)\n",
    "\n",
    "finally:\n",
    "    results_file.close()\n"
   ]
  }
 ],
 "metadata": {
  "kernelspec": {
   "display_name": "gnn",
   "language": "python",
   "name": "gnn"
  },
  "language_info": {
   "codemirror_mode": {
    "name": "ipython",
    "version": 3
   },
   "file_extension": ".py",
   "mimetype": "text/x-python",
   "name": "python",
   "nbconvert_exporter": "python",
   "pygments_lexer": "ipython3",
   "version": "3.10.0"
  },
  "vscode": {
   "interpreter": {
    "hash": "4d09f8e0af88511198df1afa281cabe8b631e39de07bf5c6d0b1b8794f60e8b7"
   }
  }
 },
 "nbformat": 4,
 "nbformat_minor": 2
}
